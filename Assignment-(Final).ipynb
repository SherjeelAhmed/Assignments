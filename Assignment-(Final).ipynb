{
 "cells": [
  {
   "cell_type": "markdown",
   "metadata": {},
   "source": [
    "# Write Python Program to Check Whether a Number is Positive or Negative\n",
    "1. Take the value of the integer and store in a variable.\n",
    "2. Use an if statement to determine whether the number is positive or negative.\n",
    "3. Exit."
   ]
  },
  {
   "cell_type": "code",
   "execution_count": 1,
   "metadata": {},
   "outputs": [
    {
     "name": "stdout",
     "output_type": "stream",
     "text": [
      "Enter value of integer: 25\n",
      "Number is positive\n"
     ]
    }
   ],
   "source": [
    "num = int(input(\"Enter value of integer: \"))\n",
    "if num > 0:\n",
    "    print(\"Number is positive\")\n",
    "elif num < 0:\n",
    "    print(\"Number is negative\")\n",
    "else:\n",
    "    print(\"Number is zero\")"
   ]
  },
  {
   "cell_type": "markdown",
   "metadata": {},
   "source": [
    "# Write Python Program to Take in the Marks of 5 Subjects and Display the Grade\n",
    "\n",
    "1. Take in the marks of 5 subjects from the user and store it in different variables.\n",
    "2. Find the average of the marks.\n",
    "3. Use an else condition to decide the grade based on the average of the marks.\n",
    "4. Exit."
   ]
  },
  {
   "cell_type": "code",
   "execution_count": 2,
   "metadata": {},
   "outputs": [
    {
     "name": "stdout",
     "output_type": "stream",
     "text": [
      "Input the value of Maths & Computer & Chemistry & English & Physics\n",
      "53 65 40 75 84\n",
      "Marks of Maths is = 53\n",
      "Marks of Physics is = 84\n",
      "Marks of Chemistry is = 40\n",
      "Marks of English is = 75\n",
      "Marks of Computer is = 65\n",
      "Average = 63.4\n",
      "Grade is C\n"
     ]
    }
   ],
   "source": [
    "print(\"Input the value of Maths & Computer & Chemistry & English & Physics\")\n",
    "Maths , Computer , Chemistry , English , Physics = map(int, input().split())\n",
    "\n",
    "print(\"Marks of Maths is =\",Maths)\n",
    "print(\"Marks of Physics is =\",Physics)\n",
    "print(\"Marks of Chemistry is =\",Chemistry)\n",
    "print(\"Marks of English is =\",English)\n",
    "print(\"Marks of Computer is =\",Computer)\n",
    "\n",
    "total_sum = Maths+Physics+Chemistry+English+Computer\n",
    "avg = total_sum / 5\n",
    "print(\"Average =\",avg)\n",
    "\n",
    "if avg > 90:\n",
    "    print(\"Grade is A\")\n",
    "elif avg > 70 and avg < 90:\n",
    "    print(\"Grade is B\")\n",
    "elif avg > 50 and avg <70:\n",
    "    print(\"Grade is C\")\n",
    "elif avg > 30 and avg < 50:\n",
    "    print(\"Grade is D\")\n",
    "else:\n",
    "    print(\"Grade is F\")"
   ]
  },
  {
   "cell_type": "markdown",
   "metadata": {},
   "source": [
    "# Write Python Program to Read Two Numbers and Print Their Quotient and Remainder\n",
    "\n",
    "1. Take in the first and second number and store it in separate variables.\n",
    "2. Then obtain the quotient using division and the remainder using modulus operator.\n",
    "3. Exit."
   ]
  },
  {
   "cell_type": "code",
   "execution_count": 3,
   "metadata": {},
   "outputs": [
    {
     "name": "stdout",
     "output_type": "stream",
     "text": [
      "Input the value of first_num & second_num\n",
      "20 5\n",
      "The value of first_num & second_num are:  20 5\n",
      "Quotient:  4.0\n",
      "Remainder:  0\n"
     ]
    }
   ],
   "source": [
    "print(\"Input the value of first_num & second_num\")\n",
    "first_num , second_num = map(int, input().split())\n",
    "print(\"The value of first_num & second_num are: \",first_num , second_num)\n",
    "\n",
    "quotient = first_num / second_num  \n",
    "remainder = first_num % second_num\n",
    "\n",
    "print(\"Quotient: \", quotient)\n",
    "print(\"Remainder: \",remainder)"
   ]
  },
  {
   "cell_type": "markdown",
   "metadata": {},
   "source": [
    "# Write Python Program to Print all Integers that Aren’t Divisible by Either 2 or 3 and Lie between 1 and 50.\n",
    "\n",
    "1. Use a for-loop ranging from 0 to 51.\n",
    "2. Then use an if statement to check if the number isn’t divisible by both 2 and 3.\n",
    "3. Print the numbers satisfying the condition.\n",
    "4. Exit."
   ]
  },
  {
   "cell_type": "code",
   "execution_count": 4,
   "metadata": {},
   "outputs": [
    {
     "name": "stdout",
     "output_type": "stream",
     "text": [
      "Numbers not divisible by 2 and 3 are = 1\n",
      "Numbers not divisible by 2 and 3 are = 5\n",
      "Numbers not divisible by 2 and 3 are = 7\n",
      "Numbers not divisible by 2 and 3 are = 11\n",
      "Numbers not divisible by 2 and 3 are = 13\n",
      "Numbers not divisible by 2 and 3 are = 17\n",
      "Numbers not divisible by 2 and 3 are = 19\n",
      "Numbers not divisible by 2 and 3 are = 23\n",
      "Numbers not divisible by 2 and 3 are = 25\n",
      "Numbers not divisible by 2 and 3 are = 29\n",
      "Numbers not divisible by 2 and 3 are = 31\n",
      "Numbers not divisible by 2 and 3 are = 35\n",
      "Numbers not divisible by 2 and 3 are = 37\n",
      "Numbers not divisible by 2 and 3 are = 41\n",
      "Numbers not divisible by 2 and 3 are = 43\n",
      "Numbers not divisible by 2 and 3 are = 47\n",
      "Numbers not divisible by 2 and 3 are = 49\n"
     ]
    }
   ],
   "source": [
    "for a in range(1,51):\n",
    "    if (a % 2) != 0 and (a % 3) != 0:\n",
    "        print(\"Numbers not divisible by 2 and 3 are =\",a)"
   ]
  },
  {
   "cell_type": "markdown",
   "metadata": {},
   "source": [
    "# Write Python Program to Exchange the Values of Two Numbers Without Using a Temporary Variable Problem Solution\n",
    "\n",
    "1. Take the values of both the elements from the user.\n",
    "2. Store the values in separate variables.\n",
    "3. Add both the variables and store it in the first variable.\n",
    "4. Subtract the second variable from the first and store it in the second variable.\n",
    "5. Then, subtract the first variable from the second variable and store it in the first variable.\n",
    "6. Print the swapped values.\n",
    "7. Exit."
   ]
  },
  {
   "cell_type": "code",
   "execution_count": 5,
   "metadata": {},
   "outputs": [
    {
     "name": "stdout",
     "output_type": "stream",
     "text": [
      "Input the value of first_num & second_num\n",
      "15 30\n",
      "The value of first_side & second_side are:  15 30\n",
      "Swapped Values are:  30 15\n"
     ]
    }
   ],
   "source": [
    "print(\"Input the value of first_num & second_num\")\n",
    "first_num , second_num = map(int, input().split())\n",
    "print(\"The value of first_side & second_side are: \",first_num , second_num)\n",
    "\n",
    "first_num = first_num + second_num\n",
    "second_num = first_num - second_num\n",
    "first_num =  first_num - second_num\n",
    "\n",
    "print(\"Swapped Values are: \",first_num , second_num)"
   ]
  },
  {
   "cell_type": "markdown",
   "metadata": {},
   "source": [
    "# Write Python Program to Find the Area of a Triangle Given All Three Sides Problem Solution\n",
    "\n",
    "1. Take in all the three sides of the triangle and store it in three separate variables.\n",
    "2. Then using the Heron’s formula, compute the area of the triangle.\n",
    "3. Print the area of the triangle.\n",
    "4. Exit."
   ]
  },
  {
   "cell_type": "code",
   "execution_count": 6,
   "metadata": {},
   "outputs": [
    {
     "name": "stdout",
     "output_type": "stream",
     "text": [
      "Input the value of first_side & second_side & third_side\n",
      "5 5 5\n",
      "The value of first_side & second_side & third_side are:  5 5 5\n",
      "Sum:  7.5\n",
      "Internal value of square root:  117.1875\n",
      "Square root:  10.825317547305483\n"
     ]
    }
   ],
   "source": [
    "import math\n",
    "\n",
    "print(\"Input the value of first_side & second_side & third_side\")\n",
    "first_num , second_num, third_side = map(int, input().split())\n",
    "print(\"The value of first_side & second_side & third_side are: \",first_num , second_num, third_side)\n",
    "\n",
    "s = (first_num + second_num + third_side)/2\n",
    "print(\"Sum: \",s)\n",
    "\n",
    "internal = s*(s-first_num)*(s-second_num)*(s-third_side)\n",
    "print(\"Internal value of square root: \",internal)\n",
    "\n",
    "sq = math.sqrt(internal)\n",
    "\n",
    "print(\"Square root: \",sq)"
   ]
  },
  {
   "cell_type": "markdown",
   "metadata": {},
   "source": [
    "# Write Python Program to Print Largest Even and Largest Odd Number in a List\n",
    "\n",
    "1. Take in the number of elements to be in the list from the user.\n",
    "2. Take in the elements from the user using a for loop and append to a list.\n",
    "3. Using a for loop, get the elements one by one from the list and check if it odd or even and append them to different lists.\n",
    "4. Sort both the lists individually and get the length of each list.\n",
    "5. Print the last elements of the sorted lists.\n",
    "6. Exit."
   ]
  },
  {
   "cell_type": "code",
   "execution_count": 7,
   "metadata": {},
   "outputs": [
    {
     "name": "stdout",
     "output_type": "stream",
     "text": [
      "Enter no of elements in list: 5\n",
      "Enter value: 15\n",
      "Enter value: 96\n",
      "Enter value: 34\n",
      "Enter value: 25\n",
      "Enter value: 9\n",
      "Number list:  [15, 96, 34, 25, 9]\n",
      "Even number list:  [96, 34]\n",
      "Odd number list:  [15, 25, 9]\n",
      "Sorted list of even:  [34, 96]\n",
      "Sorted list of odd:  [9, 15, 25]\n",
      "Length of even number is:  2\n",
      "Length of odd number is:  3\n",
      "Largest even number is:  96\n",
      "Largest odd number is:  25\n"
     ]
    }
   ],
   "source": [
    "elements = int(input(\"Enter no of elements in list: \"))\n",
    "num = []\n",
    "even = []\n",
    "odd = []\n",
    "\n",
    "for a in range(0,elements):\n",
    "    n = int(input(\"Enter value: \"))\n",
    "    num.append(n)\n",
    "print(\"Number list: \",num)\n",
    "\n",
    "for i in num:\n",
    "    if i % 2 == 0:\n",
    "        even.append(i)\n",
    "    else:\n",
    "        odd.append(i)\n",
    "print(\"Even number list: \",even)\n",
    "print(\"Odd number list: \",odd)\n",
    "\n",
    "even.sort()\n",
    "odd.sort()\n",
    "\n",
    "print(\"Sorted list of even: \",even)\n",
    "print(\"Sorted list of odd: \",odd)\n",
    "\n",
    "l_even = len(even)\n",
    "l_odd = len(odd)\n",
    "\n",
    "print(\"Length of even number is: \",l_even)\n",
    "print(\"Length of odd number is: \",l_odd)\n",
    "\n",
    "print(\"Largest even number is: \",even.pop())\n",
    "print(\"Largest odd number is: \",odd.pop())"
   ]
  },
  {
   "cell_type": "markdown",
   "metadata": {},
   "source": [
    "# Write Python Program to Find the Second Largest Number in a List\n",
    "\n",
    "1. Take in the number of elements and store it in a variable.\n",
    "2. Take in the elements of the list one by one.\n",
    "3. Sort the list in ascending order.\n",
    "4. Print the second last element of the list.\n",
    "5. Exit."
   ]
  },
  {
   "cell_type": "code",
   "execution_count": 8,
   "metadata": {},
   "outputs": [
    {
     "name": "stdout",
     "output_type": "stream",
     "text": [
      "Enter number of elements in list: 4\n",
      "Enter value: 85\n",
      "Enter value: 45\n",
      "Enter value: 26\n",
      "Enter value: 30\n",
      "[85, 45, 26, 30]\n",
      "Sorted list in ascending order:  [26, 30, 45, 85]\n",
      "Second last number:  45\n"
     ]
    }
   ],
   "source": [
    "elements = int(input(\"Enter number of elements in list: \"))\n",
    "num = []\n",
    "for i in range(0,elements):\n",
    "    n = int(input(\"Enter value: \"))\n",
    "    num.append(n)\n",
    "print(num)\n",
    "\n",
    "num.sort()\n",
    "print(\"Sorted list in ascending order: \",num)\n",
    "\n",
    "print(\"Second last number: \",num.pop(-2))\n"
   ]
  },
  {
   "cell_type": "markdown",
   "metadata": {},
   "source": [
    "# Write Python Program to Find the Union of two Lists\n",
    "\n",
    "1. Define a function which accepts two lists and returns the union of them.\n",
    "2. Declare two empty lists and initialise to an empty list.\n",
    "3. Consider a for loop to accept values for two lists.\n",
    "4. Take the number of elements in the list and store it in a variable.\n",
    "5. Accept the values into the list using another for loop and insert into the list.\n",
    "6. Repeat 4 and 5 for the second list also.\n",
    "7. Find the union of the two lists.\n",
    "8. Print the union.\n",
    "9. Exit"
   ]
  },
  {
   "cell_type": "code",
   "execution_count": 9,
   "metadata": {},
   "outputs": [],
   "source": [
    "def union(list1,list2):\n",
    "    return list1 + list2"
   ]
  },
  {
   "cell_type": "code",
   "execution_count": 10,
   "metadata": {},
   "outputs": [
    {
     "name": "stdout",
     "output_type": "stream",
     "text": [
      "Enter value: 2\n",
      "Enter value to list1: 15\n",
      "Enter value to list2: 34\n",
      "Enter value to list1: 20\n",
      "Enter value to list2: 7\n",
      "Value of list1:  [15, 20]\n",
      "Value of list2:  [34, 7]\n"
     ]
    }
   ],
   "source": [
    "list1 = []\n",
    "list2 = []\n",
    "\n",
    "elements = int(input(\"Enter value: \"))\n",
    "\n",
    "for a in range(0,elements):\n",
    "    l1 = int(input(\"Enter value to list1: \"))\n",
    "    list1.append(l1)\n",
    "    \n",
    "    l2 = int(input(\"Enter value to list2: \"))\n",
    "    list2.append(l2)\n",
    "    \n",
    "print(\"Value of list1: \",list1)\n",
    "print(\"Value of list2: \",list2)\n"
   ]
  },
  {
   "cell_type": "code",
   "execution_count": 11,
   "metadata": {},
   "outputs": [
    {
     "name": "stdout",
     "output_type": "stream",
     "text": [
      "Union value:  [15, 20, 34, 7]\n"
     ]
    }
   ],
   "source": [
    "u = union(list1,list2)\n",
    "print(\"Union value: \",u)"
   ]
  }
 ],
 "metadata": {
  "kernelspec": {
   "display_name": "Python 3",
   "language": "python",
   "name": "python3"
  },
  "language_info": {
   "codemirror_mode": {
    "name": "ipython",
    "version": 3
   },
   "file_extension": ".py",
   "mimetype": "text/x-python",
   "name": "python",
   "nbconvert_exporter": "python",
   "pygments_lexer": "ipython3",
   "version": "3.7.3"
  }
 },
 "nbformat": 4,
 "nbformat_minor": 2
}
